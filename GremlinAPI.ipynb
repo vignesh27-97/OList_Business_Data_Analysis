{
 "cells": [
  {
   "cell_type": "code",
   "execution_count": null,
   "id": "628265bc-9f1f-4b7a-b25e-fe90edd66f18",
   "metadata": {
    "tags": []
   },
   "outputs": [],
   "source": [
    "import os\n",
    "import pyodbc\n",
    "import json\n",
    "\n",
    "os.getcwd()"
   ]
  },
  {
   "cell_type": "code",
   "execution_count": null,
   "id": "af4a8bf7-39fb-4647-afef-50e53acc2e51",
   "metadata": {
    "tags": []
   },
   "outputs": [],
   "source": [
    "with open('Products.json', encoding='utf-8-sig') as f:\n",
    "    product_data = json.load(f)\n",
    "    \n",
    "with open('customer.json', encoding='utf-8-sig') as f:\n",
    "    customer_data = json.load(f)\n",
    "    \n",
    "with open('orders.json', encoding='utf-8-sig') as f:\n",
    "    orders_data = json.load(f)"
   ]
  },
  {
   "cell_type": "code",
   "execution_count": null,
   "id": "341a7d02-21e9-436f-9e0d-7ee80a5fcd2f",
   "metadata": {},
   "outputs": [],
   "source": [
    "print(f\"Length of Products: {len(product_data)}\")\n",
    "print(f\"Length of Customers: {len(customer_data)}\")\n",
    "print(f\"Length of Orders: {len(orders_data)}\")\n",
    "\n",
    "print(\"\\n\")\n",
    "print(product_data[0])\n",
    "print(\"\\n\")\n",
    "print(customer_data[0])\n",
    "print(\"\\n\")\n",
    "print(orders_data[0])"
   ]
  },
  {
   "cell_type": "code",
   "execution_count": null,
   "id": "f923e1ce-fd11-47b5-a1e2-31ac3cbf0d24",
   "metadata": {},
   "outputs": [],
   "source": [
    "from gremlin_python.driver import client, serializer\n",
    "from gremlin_python.driver.aiohttp.transport import AiohttpTransport\n",
    "\n",
    "\n",
    "client = client.Client('wss://olist-graph-db.gremlin.cosmosdb.azure.com:443/','g', \n",
    "             username=\"/dbs/db-olist/colls/graph-olist\",\n",
    "             password=\"qDT6DYEtwXZyMkXB4qIF7GkeQ2q74Xw0RdIEom9mc074w22wpvcn6i0AZp2qlPYkUpcVmlrmTMpUACDbcLuIwg==\",\n",
    "             message_serializer=serializer.GraphSONSerializersV2d0(),\n",
    "             transport_factory=lambda: AiohttpTransport(call_from_event_loop=True)\n",
    "             )\n",
    "\n",
    "for obj in customer_data:\n",
    "    query = f\"g.addV('customer').property('id', '{obj['customer_id']}').property('customer_unique_id', '{obj['customer_unique_id']}').property('geolocation_id', '{obj['geolocation_id']}').property('pk','pk')\"\n",
    "    client.submitAsync(query)\n"
   ]
  },
  {
   "cell_type": "code",
   "execution_count": null,
   "id": "fcea5732-acd0-41a5-acc9-66bd9e37ca16",
   "metadata": {},
   "outputs": [],
   "source": [
    "for obj in product_data:\n",
    "    query = (f\"g.addV('product').property('id', '{obj.get('product_id')}')\"\n",
    "             f\".property('product_name_length', '{obj.get('product_name_length') or -99}')\"\n",
    "             f\".property('product_description_length', '{obj.get('product_description_length') or -99}')\"\n",
    "             f\".property('product_photos_qty', '{obj.get('product_photos_qty') or -99}')\"\n",
    "             f\".property('product_weight_g', '{obj.get('product_weight_g') or -99}')\"\n",
    "             f\".property('product_length_cm', '{obj.get('product_length_cm') or -99}')\"\n",
    "             f\".property('product_height_cm', '{obj.get('product_height_cm') or -99}')\"\n",
    "             f\".property('product_width_cm', '{obj.get('product_width_cm') or -99}')\"\n",
    "             f\".property('product_category_name', '{obj.get('product_category_name') or 'Unknown'}')\"\n",
    "             f\".property('pk','pk')\")\n",
    "\n",
    "    client.submitAsync(query)"
   ]
  },
  {
   "cell_type": "code",
   "execution_count": null,
   "id": "8d5464e9-20f8-49fc-ad49-535de8e54979",
   "metadata": {},
   "outputs": [],
   "source": [
    "for obj in orders_data:\n",
    "    query = f\"g.addV('order').property('id', '{obj['order_id']}') \\\n",
    "              .property('customer_id', '{obj.get('customer_id')}') \\\n",
    "              .property('order_status', '{obj.get('order_status') or 'Unknown'}') \\\n",
    "              .property('order_purchase_timestamp', '{obj.get('order_purchase_timestamp')}') \\\n",
    "              .property('order_approved_at', '{obj.get('order_approved_at')}') \\\n",
    "              .property('order_delivered_carrier_date', '{obj.get('order_delivered_carrier_date')}') \\\n",
    "              .property('order_delivered_customer_date', '{obj.get('order_delivered_customer_date')}') \\\n",
    "              .property('order_estimated_delivery_date', '{obj.get('order_estimated_delivery_date')}') \\\n",
    "              .property('pk','pk')\"\n",
    "    client.submit(query)\n",
    "\n",
    "#g.V().hasLabel('order').has('order_id', '00010242fe8c5a6d1ba2dd792cb16214').addE('orderedBy').to(g.V().hasLabel('customer').has('customer_id', '3ce436f183e68e07877b285a838db11a'))"
   ]
  },
  {
   "cell_type": "code",
   "execution_count": null,
   "id": "a38b3f54-7fee-42a6-a328-2bd13733185f",
   "metadata": {
    "tags": []
   },
   "outputs": [],
   "source": []
  }
 ],
 "metadata": {
  "kernelspec": {
   "display_name": "Python 3 (ipykernel)",
   "language": "python",
   "name": "python3"
  },
  "language_info": {
   "codemirror_mode": {
    "name": "ipython",
    "version": 3
   },
   "file_extension": ".py",
   "mimetype": "text/x-python",
   "name": "python",
   "nbconvert_exporter": "python",
   "pygments_lexer": "ipython3",
   "version": "3.9.12"
  }
 },
 "nbformat": 4,
 "nbformat_minor": 5
}
