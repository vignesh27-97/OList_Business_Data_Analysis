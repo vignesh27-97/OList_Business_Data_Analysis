{
 "cells": [
  {
   "cell_type": "code",
   "execution_count": 1,
   "id": "4ca88053",
   "metadata": {},
   "outputs": [
    {
     "name": "stdout",
     "output_type": "stream",
     "text": [
      "Collecting azure-cosmos\n",
      "  Downloading azure_cosmos-4.3.1-py3-none-any.whl (222 kB)\n",
      "\u001b[K     |████████████████████████████████| 222 kB 749 kB/s eta 0:00:01\n",
      "\u001b[?25hCollecting azure-core<2.0.0,>=1.23.0\n",
      "  Downloading azure_core-1.26.3-py3-none-any.whl (174 kB)\n",
      "\u001b[K     |████████████████████████████████| 174 kB 2.0 MB/s eta 0:00:01\n",
      "\u001b[?25hRequirement already satisfied: typing-extensions>=4.0.1 in /opt/anaconda3/lib/python3.9/site-packages (from azure-core<2.0.0,>=1.23.0->azure-cosmos) (4.5.0)\n",
      "Requirement already satisfied: requests>=2.18.4 in /opt/anaconda3/lib/python3.9/site-packages (from azure-core<2.0.0,>=1.23.0->azure-cosmos) (2.26.0)\n",
      "Requirement already satisfied: six>=1.11.0 in /opt/anaconda3/lib/python3.9/site-packages (from azure-core<2.0.0,>=1.23.0->azure-cosmos) (1.16.0)\n",
      "Requirement already satisfied: urllib3<1.27,>=1.21.1 in /opt/anaconda3/lib/python3.9/site-packages (from requests>=2.18.4->azure-core<2.0.0,>=1.23.0->azure-cosmos) (1.26.7)\n",
      "Requirement already satisfied: idna<4,>=2.5 in /opt/anaconda3/lib/python3.9/site-packages (from requests>=2.18.4->azure-core<2.0.0,>=1.23.0->azure-cosmos) (3.2)\n",
      "Requirement already satisfied: certifi>=2017.4.17 in /opt/anaconda3/lib/python3.9/site-packages (from requests>=2.18.4->azure-core<2.0.0,>=1.23.0->azure-cosmos) (2021.10.8)\n",
      "Requirement already satisfied: charset-normalizer~=2.0.0 in /opt/anaconda3/lib/python3.9/site-packages (from requests>=2.18.4->azure-core<2.0.0,>=1.23.0->azure-cosmos) (2.0.4)\n",
      "Installing collected packages: azure-core, azure-cosmos\n",
      "Successfully installed azure-core-1.26.3 azure-cosmos-4.3.1\n",
      "Note: you may need to restart the kernel to use updated packages.\n"
     ]
    }
   ],
   "source": [
    "pip install --pre azure-cosmos\n",
    "pip install --pre azure-storage-blob"
   ]
  },
  {
   "cell_type": "code",
   "execution_count": 15,
   "id": "ed111f81",
   "metadata": {},
   "outputs": [],
   "source": [
    "from azure.storage.blob import BlobServiceClient\n",
    "import pyodbc\n",
    "import json\n"
   ]
  },
  {
   "cell_type": "code",
   "execution_count": 16,
   "id": "e582658b",
   "metadata": {},
   "outputs": [],
   "source": [
    "blob_service_client = BlobServiceClient(\n",
    "    account_url = \"https://olistjson.blob.core.windows.net/\",\n",
    "    credential  = \"HwZcWA9odnJRvpzFvf1cA0w3ZnwGwPktuA4tvNY5H5FMv/zkgVb4bDuWrXLGrf3n99mL5bIOWjoK+ASt8iR6lw==\"\n",
    ")"
   ]
  },
  {
   "cell_type": "code",
   "execution_count": 2,
   "id": "5659d46d",
   "metadata": {},
   "outputs": [],
   "source": [
    "container_client = blob_service_client.get_container_client(\"olistdata\")"
   ]
  },
  {
   "cell_type": "code",
   "execution_count": 14,
   "id": "f309e951",
   "metadata": {},
   "outputs": [
    {
     "name": "stdout",
     "output_type": "stream",
     "text": [
      "olistdata\n"
     ]
    },
    {
     "data": {
      "text/plain": [
       "'data_06e5d85c-35ee-4026-b702-6691445d518b_7bcd4bb4-c504-4941-ab7b-4716f9ef770c.json'"
      ]
     },
     "execution_count": 14,
     "metadata": {},
     "output_type": "execute_result"
    }
   ],
   "source": [
    "for container in blob_service_client.list_containers():\n",
    "    print(container.name)\n",
    "    \n",
    "container_client.list_blob_names().next()"
   ]
  },
  {
   "cell_type": "code",
   "execution_count": 10,
   "id": "57b4f4b6",
   "metadata": {},
   "outputs": [],
   "source": [
    "# container_client.list_blob_names().next()\n",
    "# container_client.list_blobs().next()"
   ]
  },
  {
   "cell_type": "code",
   "execution_count": 37,
   "id": "dd93437b",
   "metadata": {},
   "outputs": [],
   "source": [
    "# data = '''\n",
    "# {'name': 'dbo.ProductCategory.json', 'container': 'olistdata', 'snapshot': None, 'version_id': None, 'is_current_version': None, 'blob_type': <BlobType.BLOCKBLOB: 'BlockBlob'>, 'metadata': {}, 'encrypted_metadata': None, 'last_modified': datetime.datetime(2023, 3, 24, 22, 6, 27, tzinfo=datetime.timezone.utc), 'etag': '0x8DB2CB403CC368F', 'size': 5615, 'content_range': None, 'append_blob_committed_block_count': None, 'is_append_blob_sealed': None, 'page_blob_sequence_number': None, 'server_encrypted': True, 'copy': {'id': None, 'source': None, 'status': None, 'progress': None, 'completion_time': None, 'status_description': None, 'incremental_copy': None, 'destination_snapshot': None}, 'content_settings': {'content_type': 'application/octet-stream', 'content_encoding': None, 'content_language': None, 'content_md5': None, 'content_disposition': None, 'cache_control': None}, 'lease': {'status': 'unlocked', 'state': 'available', 'duration': None}, 'blob_tier': 'Cool', 'rehydrate_priority': None, 'blob_tier_change_time': None, 'blob_tier_inferred': True, 'deleted': None, 'deleted_time': None, 'remaining_retention_days': None, 'creation_time': datetime.datetime(2023, 3, 24, 22, 6, 27, tzinfo=datetime.timezone.utc), 'archive_status': None, 'encryption_key_sha256': None, 'encryption_scope': None, 'request_server_encrypted': None, 'object_replication_source_properties': [], 'object_replication_destination_policy': None, 'last_accessed_on': None, 'tag_count': None, 'tags': None, 'immutability_policy': {'expiry_time': None, 'policy_mode': None}, 'has_legal_hold': None, 'has_versions_only': None}\n",
    "# '''\n",
    "\n",
    "# container_client.upload_blob(\"sanketNew\",data)"
   ]
  },
  {
   "cell_type": "code",
   "execution_count": 18,
   "id": "bc989366",
   "metadata": {},
   "outputs": [
    {
     "ename": "Error",
     "evalue": "('01000', \"[01000] [unixODBC][Driver Manager]Can't open lib 'ODBC Driver 17 for SQL Server' : file not found (0) (SQLDriverConnect)\")",
     "output_type": "error",
     "traceback": [
      "\u001b[0;31m---------------------------------------------------------------------------\u001b[0m",
      "\u001b[0;31mError\u001b[0m                                     Traceback (most recent call last)",
      "\u001b[0;32m/var/folders/5q/w_y2sfjj2bv130sh86slry7r0000gq/T/ipykernel_74409/3021869048.py\u001b[0m in \u001b[0;36m<module>\u001b[0;34m\u001b[0m\n\u001b[0;32m----> 1\u001b[0;31m conn = pyodbc.connect(\n\u001b[0m\u001b[1;32m      2\u001b[0m \u001b[0;34m'Driver={ODBC Driver 17 for SQL Server};'\u001b[0m\u001b[0;34m\u001b[0m\u001b[0;34m\u001b[0m\u001b[0m\n\u001b[1;32m      3\u001b[0m \u001b[0;34m'Server=localhost;'\u001b[0m\u001b[0;34m\u001b[0m\u001b[0;34m\u001b[0m\u001b[0m\n\u001b[1;32m      4\u001b[0m \u001b[0;34m'Database=Olist;'\u001b[0m\u001b[0;34m\u001b[0m\u001b[0;34m\u001b[0m\u001b[0m\n\u001b[1;32m      5\u001b[0m 'Trusted_Connection=yes;')\n",
      "\u001b[0;31mError\u001b[0m: ('01000', \"[01000] [unixODBC][Driver Manager]Can't open lib 'ODBC Driver 17 for SQL Server' : file not found (0) (SQLDriverConnect)\")"
     ]
    }
   ],
   "source": [
    "conn = pyodbc.connect(\n",
    "'Driver={ODBC Driver 17 for SQL Server};'\n",
    "'Server=localhost;'\n",
    "'Database=Olist;'\n",
    "'Trusted_Connection=yes;')\n",
    "\n"
   ]
  },
  {
   "cell_type": "code",
   "execution_count": 20,
   "id": "2568c9d8",
   "metadata": {},
   "outputs": [
    {
     "ename": "Error",
     "evalue": "('01000', \"[01000] [unixODBC][Driver Manager]Can't open lib 'Devart ODBC Driver for SQLAzure' : file not found (0) (SQLDriverConnect)\")",
     "output_type": "error",
     "traceback": [
      "\u001b[0;31m---------------------------------------------------------------------------\u001b[0m",
      "\u001b[0;31mError\u001b[0m                                     Traceback (most recent call last)",
      "\u001b[0;32m/var/folders/5q/w_y2sfjj2bv130sh86slry7r0000gq/T/ipykernel_74409/4254488061.py\u001b[0m in \u001b[0;36m<module>\u001b[0;34m\u001b[0m\n\u001b[1;32m      1\u001b[0m \u001b[0;32mimport\u001b[0m \u001b[0mpyodbc\u001b[0m\u001b[0;34m\u001b[0m\u001b[0;34m\u001b[0m\u001b[0m\n\u001b[0;32m----> 2\u001b[0;31m \u001b[0mcnxn\u001b[0m \u001b[0;34m=\u001b[0m \u001b[0mpyodbc\u001b[0m\u001b[0;34m.\u001b[0m\u001b[0mconnect\u001b[0m\u001b[0;34m(\u001b[0m\u001b[0;34m'DRIVER={Devart ODBC Driver for SQLAzure};Server=adbms.database.windows.net;Database=olist;Port=1433;User ID=root123;Password=root@123'\u001b[0m\u001b[0;34m)\u001b[0m\u001b[0;34m\u001b[0m\u001b[0;34m\u001b[0m\u001b[0m\n\u001b[0m",
      "\u001b[0;31mError\u001b[0m: ('01000', \"[01000] [unixODBC][Driver Manager]Can't open lib 'Devart ODBC Driver for SQLAzure' : file not found (0) (SQLDriverConnect)\")"
     ]
    }
   ],
   "source": [
    "import pyodbc \n",
    "cnxn = pyodbc.connect('DRIVER={Devart ODBC Driver for SQLAzure};Server=adbms.database.windows.net;Database=olist;Port=1433;User ID=root123;Password=root@123')\n"
   ]
  },
  {
   "cell_type": "code",
   "execution_count": 25,
   "id": "60e78a70",
   "metadata": {},
   "outputs": [
    {
     "ename": "Error",
     "evalue": "('01000', \"[01000] [unixODBC][Driver Manager]Can't open lib 'ODBC Driver 18 for SQL Server' : file not found (0) (SQLDriverConnect)\")",
     "output_type": "error",
     "traceback": [
      "\u001b[0;31m---------------------------------------------------------------------------\u001b[0m",
      "\u001b[0;31mError\u001b[0m                                     Traceback (most recent call last)",
      "\u001b[0;32m/var/folders/5q/w_y2sfjj2bv130sh86slry7r0000gq/T/ipykernel_74409/2204449308.py\u001b[0m in \u001b[0;36m<module>\u001b[0;34m\u001b[0m\n\u001b[1;32m      6\u001b[0m \u001b[0mdriver\u001b[0m\u001b[0;34m=\u001b[0m \u001b[0;34m'{ODBC Driver 18 for SQL Server}'\u001b[0m\u001b[0;34m\u001b[0m\u001b[0;34m\u001b[0m\u001b[0m\n\u001b[1;32m      7\u001b[0m \u001b[0;34m\u001b[0m\u001b[0m\n\u001b[0;32m----> 8\u001b[0;31m \u001b[0;32mwith\u001b[0m \u001b[0mpyodbc\u001b[0m\u001b[0;34m.\u001b[0m\u001b[0mconnect\u001b[0m\u001b[0;34m(\u001b[0m\u001b[0;34m'DRIVER='\u001b[0m\u001b[0;34m+\u001b[0m\u001b[0mdriver\u001b[0m\u001b[0;34m+\u001b[0m\u001b[0;34m';SERVER=tcp:'\u001b[0m\u001b[0;34m+\u001b[0m\u001b[0mserver\u001b[0m\u001b[0;34m+\u001b[0m\u001b[0;34m';PORT=1433;DATABASE='\u001b[0m\u001b[0;34m+\u001b[0m\u001b[0mdatabase\u001b[0m\u001b[0;34m+\u001b[0m\u001b[0;34m';UID='\u001b[0m\u001b[0;34m+\u001b[0m\u001b[0musername\u001b[0m\u001b[0;34m+\u001b[0m\u001b[0;34m';PWD='\u001b[0m\u001b[0;34m+\u001b[0m \u001b[0mpassword\u001b[0m\u001b[0;34m)\u001b[0m \u001b[0;32mas\u001b[0m \u001b[0mconn\u001b[0m\u001b[0;34m:\u001b[0m\u001b[0;34m\u001b[0m\u001b[0;34m\u001b[0m\u001b[0m\n\u001b[0m\u001b[1;32m      9\u001b[0m     \u001b[0;32mwith\u001b[0m \u001b[0mconn\u001b[0m\u001b[0;34m.\u001b[0m\u001b[0mcursor\u001b[0m\u001b[0;34m(\u001b[0m\u001b[0;34m)\u001b[0m \u001b[0;32mas\u001b[0m \u001b[0mcursor\u001b[0m\u001b[0;34m:\u001b[0m\u001b[0;34m\u001b[0m\u001b[0;34m\u001b[0m\u001b[0m\n\u001b[1;32m     10\u001b[0m         \u001b[0mcursor\u001b[0m\u001b[0;34m.\u001b[0m\u001b[0mexecute\u001b[0m\u001b[0;34m(\u001b[0m\u001b[0;34m\"SELECT TOP 3 name, collation_name FROM sys.databases\"\u001b[0m\u001b[0;34m)\u001b[0m\u001b[0;34m\u001b[0m\u001b[0;34m\u001b[0m\u001b[0m\n",
      "\u001b[0;31mError\u001b[0m: ('01000', \"[01000] [unixODBC][Driver Manager]Can't open lib 'ODBC Driver 18 for SQL Server' : file not found (0) (SQLDriverConnect)\")"
     ]
    }
   ],
   "source": [
    "import pyodbc\n",
    "server = 'adbms.database.windows.net'\n",
    "database = 'olist'\n",
    "username = 'root123'\n",
    "password = 'root@123'   \n",
    "driver= '{ODBC Driver 18 for SQL Server}'\n",
    "\n",
    "with pyodbc.connect('DRIVER='+driver+';SERVER=tcp:'+server+';PORT=1433;DATABASE='+database+';UID='+username+';PWD='+ password) as conn:\n",
    "    with conn.cursor() as cursor:\n",
    "        cursor.execute(\"SELECT TOP 3 name, collation_name FROM sys.databases\")\n",
    "        row = cursor.fetchone()\n",
    "        while row:\n",
    "            print (str(row[0]) + \" \" + str(row[1]))\n",
    "            row = cursor.fetchone()"
   ]
  }
 ],
 "metadata": {
  "kernelspec": {
   "display_name": "Python 3 (ipykernel)",
   "language": "python",
   "name": "python3"
  },
  "language_info": {
   "codemirror_mode": {
    "name": "ipython",
    "version": 3
   },
   "file_extension": ".py",
   "mimetype": "text/x-python",
   "name": "python",
   "nbconvert_exporter": "python",
   "pygments_lexer": "ipython3",
   "version": "3.9.7"
  }
 },
 "nbformat": 4,
 "nbformat_minor": 5
}
